{
 "nbformat": 4,
 "nbformat_minor": 0,
 "metadata": {
  "colab": {
   "provenance": []
  },
  "kernelspec": {
   "name": "python3",
   "display_name": "Python 3"
  },
  "language_info": {
   "name": "python"
  }
 },
 "cells": [
  {
   "cell_type": "code",
   "execution_count": 2,
   "metadata": {
    "id": "GDpQt4oYeNx5"
   },
   "outputs": [],
   "source": [
    "!pip install -q pandas\n",
    "import math\n",
    "import pandas as pd\n",
    "import numpy as np"
   ]
  },
  {
   "cell_type": "markdown",
   "source": [
    "$$\\text{Mean} (\\mu) = \\frac{\\sum_{i=1}^{n} x_i}{n}$$<br><br>\n",
    "$$\\text{MSE} = \\frac{1}{n} \\sum_{i=1}^{n} (y_i - \\hat{y}_i)^2$$<br><br>\n",
    "$$\\text{RMSE} = \\sqrt{\\frac{1}{n} \\sum_{i=1}^{n} (y_i - \\hat{y}_i)^2}$$<br><br>\n",
    "$$\\text{Variance(}\\sigma^2) = \\frac{1}{n} \\sum_{i=1}^{n} (x_i - \\mu)^2$$<br><br>\n",
    "$$\\text{Cov}(X, Y) = \\frac{1}{n-1} \\sum_{i=1}^{n} (x_i - \\mu(X))(y_i - \\mu(Y))$$<br><br>\n",
    "$$\\text{Intercept}(b_0) = \\mu(Y) - b_1 \\mu(X)$$<br><br>\n",
    "$$\\text{Slope}(b_1) = \\frac{\\sum_{i=1}^{n} (x_i - \\mu(X))(y_i - \\mu(Y))}{\\sum_{i=1}^{n} (x_i - \\mu(X))^2} = \\frac{\\text{Cov}(X, Y)}{\\text{Var}(X)}$$<br><br>\n",
    "$$\\text{Simple Linear Regression}(y) = \\beta_0 + \\beta_1 x + \\epsilon$$<br><br>"
   ],
   "metadata": {
    "id": "QwXPEwbwiw8v"
   }
  },
  {
   "cell_type": "code",
   "source": [
    "import pandas as pd\n",
    "import numpy as np\n",
    "from math import sqrt\n",
    "\n",
    "def n_(x):\n",
    "    n = len(x)\n",
    "    return n\n",
    "\n",
    "def power_(x, n):\n",
    "    x = x**n\n",
    "    return x\n",
    "\n",
    "def Σ_(x):\n",
    "    Σ = 0\n",
    "    for xi in x:\n",
    "        Σ += xi\n",
    "    return Σ\n",
    "\n",
    "def μ_(x):\n",
    "    n = n_(x)\n",
    "    μ = Σ_([xi for xi in x]) / n\n",
    "    return μ\n",
    "\n",
    "def σ2_(x):\n",
    "    μ, n = μ_(x), n_(x)\n",
    "    σ2 = Σ_([power_((xi - μ), 2) for xi in x]) / (n - 1)\n",
    "    return σ2\n",
    "\n",
    "def sqrt_(x):\n",
    "    # Babylonian/Heron's method\n",
    "    if x < 0:\n",
    "        raise ValueError(\"Cannot compute square root of a negative number\")\n",
    "    guess = x / 2.0\n",
    "    tolerance = 1e-10\n",
    "    while abs(guess * guess - x) > tolerance:\n",
    "        guess = (guess + x / guess) / 2.0\n",
    "    return guess\n",
    "\n",
    "def CovXY_(x, y):\n",
    "    xy = list(zip(x, y))\n",
    "    n = n_(xy)\n",
    "    μX = μ_(x)\n",
    "    μY = μ_(y)\n",
    "    CovXY = Σ_([(xi - μX) * (yi - μY) for xi, yi in xy]) / (n - 1)\n",
    "    return CovXY\n",
    "\n",
    "def coefficients_(x, y):\n",
    "    b1 = CovXY_(x, y) / σ2_(x)\n",
    "    b0 = μ_(y) - b1 * μ_(x)\n",
    "    return b0, b1\n",
    "\n",
    "def mse_(y, yhat):\n",
    "    n = n_(y)\n",
    "    error_summation = Σ_([power_(yhat[i] - y[i], 2) for i in range(n)])\n",
    "    mse = error_summation / n\n",
    "    return mse\n",
    "\n",
    "def rmse_(y, yhat):\n",
    "    mse = mse_(y, yhat)\n",
    "    rmse = sqrt_(mse)\n",
    "    return rmse\n",
    "\n",
    "def train_test_split_(x, y, split):\n",
    "    import random\n",
    "    random.seed(1)\n",
    "    data = list(zip(x, y))\n",
    "    random.shuffle(data)\n",
    "    x, y = zip(*data)\n",
    "    split_index = round(split * len(x))\n",
    "    xtrain = x[:split_index]\n",
    "    ytrain = y[:split_index]\n",
    "    xtest = x[split_index:]\n",
    "    ytest = y[split_index:]\n",
    "    return (xtrain, ytrain), (xtest, ytest)\n",
    "\n",
    "def simple_linear_regression_(x, y):\n",
    "    yhats = list()\n",
    "    b0, b1 = coefficients_(x, y)\n",
    "    for row in x:\n",
    "        yhat = b0 + b1 * row\n",
    "        yhats.append(yhat)\n",
    "    return yhats\n",
    "\n",
    "def train(x, y):\n",
    "    yhat = simple_linear_regression_(x, y)\n",
    "    rmse = rmse_(y, yhat)\n",
    "    return rmse\n"
   ],
   "metadata": {
    "id": "ufva8xl-iwaj"
   },
   "execution_count": 110,
   "outputs": []
  },
  {
   "cell_type": "code",
   "source": [
    "data = pd.read_csv('AutoInsurSweden.tsv', sep='\\t')\n",
    "seed(1)\n",
    "split = 0.8\n",
    "x, y = data['X'].to_numpy(), data['Y'].to_numpy()\n",
    "\n",
    "print('μ(x) = %.3f σ2(x) = %.3f' % (μ_(x), σ2_(x)))\n",
    "print('μ(y) = %.3f σ2(y) = %.3f' % (μ_(y), σ2_(y)))\n",
    "print('CovXY(X, Y) = %.3f' % (CovXY_(x, y)))\n",
    "print('Coefficients: Intercept(b0) = %.3f, Slope(b1) = %.3f' % (coefficients_(x, y)))\n",
    "\n",
    "(train_x, train_y), (test_x, test_y) = train_test_split_(x, y, split)\n",
    "rmse = train(train_x, train_y)\n",
    "print(\"RMSE:\", rmse)"
   ],
   "metadata": {
    "colab": {
     "base_uri": "https://localhost:8080/"
    },
    "id": "0jtVByCXhkwc",
    "outputId": "05ec277e-db07-427a-ac00-32dd20b3a798"
   },
   "execution_count": 111,
   "outputs": [
    {
     "output_type": "stream",
     "name": "stdout",
     "text": [
      "μ(x) = 22.905 σ2(x) = 545.313\n",
      "μ(y) = 98.187 σ2(y) = 7626.101\n",
      "CovXY(X, Y) = 1861.604\n",
      "Coefficients: Intercept(b0) = 19.994, Slope(b1) = 3.414\n",
      "RMSE: 37.1005471622345\n"
     ]
    }
   ]
  }
 ]
}
